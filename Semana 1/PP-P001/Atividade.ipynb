{
 "cells": [
  {
   "cell_type": "markdown",
   "metadata": {},
   "source": [
    "<h4>Exercício 2</h4>"
   ]
  },
  {
   "cell_type": "markdown",
   "metadata": {},
   "source": [
    " <b>1.</b>Os operadores aritméticos básicos em Python são semelhantes aos de C/C++ e incluem adição +, subtração -, multiplicação *, divisão /, e exponenciação **. Os operadores aritméticos compostos são variações dos operadores básicos junto com a atribuição, por exemplo, +=, -=, *=, /=, etc."
   ]
  },
  {
   "cell_type": "markdown",
   "metadata": {},
   "source": [
    "Exemplos de Operadores Aritméticos"
   ]
  },
  {
   "cell_type": "code",
   "execution_count": null,
   "metadata": {},
   "outputs": [
    {
     "name": "stdout",
     "output_type": "stream",
     "text": [
      "Operadores aritiméticos:\n",
      "Adição: 12\n",
      "Subtração: 6\n",
      "Multiplicação: 27\n",
      "Divisão: 3.0\n",
      "Exponenciação: 729\n"
     ]
    }
   ],
   "source": [
    "a = 9\n",
    "b = 3\n",
    "\n",
    "print(\"Operadores aritiméticos:\")\n",
    "\n",
    "resultado = a + b\n",
    "print(f'Adição: {resultado}')\n",
    "\n",
    "resultado = a - b\n",
    "print(f'Subtração: {resultado}')\n",
    "\n",
    "resultado = a * b\n",
    "print(f'Multiplicação: {resultado}')\n",
    "\n",
    "resultado = a / b\n",
    "print(f'Divisão: {resultado}')\n",
    "\n",
    "resultado = a ** b\n",
    "print(f'Exponenciação: {resultado}')"
   ]
  },
  {
   "cell_type": "markdown",
   "metadata": {},
   "source": [
    "Exemplos de Operadores Compostos"
   ]
  },
  {
   "cell_type": "code",
   "execution_count": null,
   "metadata": {},
   "outputs": [],
   "source": [
    "print(\"Operadores Compostos:\")\n",
    "\n",
    "c = 5\n",
    "c += 3\n",
    "print(f'Adição: {c}')\n",
    "\n",
    "d = 8\n",
    "d -= 4\n",
    "print(f'Subtração: {d}')\n",
    "\n",
    "e = 10\n",
    "e *= 2\n",
    "print(f'Multiplicação: {e}')\n",
    "\n",
    "f = 20\n",
    "f /= 10\n",
    "print(f'Divisão: {f}')"
   ]
  },
  {
   "cell_type": "markdown",
   "metadata": {},
   "source": [
    "Principais Diferenças e Novidades em Python"
   ]
  },
  {
   "cell_type": "markdown",
   "metadata": {},
   "source": [
    "<ul>\n",
    "<li><b>Divisão de inteiros</b>: Em Python 3, a divisão de inteiros usando / resulta em um número de ponto flutuante, enquanto em Python 2, isso resultaria em uma divisão inteira se os dois operandos fossem inteiros.</li>\n",
    "\n",
    "<li><b>Operador de exponenciação</b>: Python usa ** para exponenciação, enquanto em algumas outras linguagens, é comum usar ^.</li>\n",
    "\n",
    "<li><b>Sintaxe mais clara</b>: Python tem uma sintaxe mais legível para operações matemáticas e menos dependência de operadores aritméticos compostos.</li>\n",
    "\n",
    "<li><b>Flexibilidade com tipos</b>: Python é uma linguagem de tipagem dinâmica, o que significa que você não precisa declarar o tipo de variável antes de atribuir um valor. Isso permite maior flexibilidade ao lidar com operações numéricas.</li>\n",
    "</ul>"
   ]
  },
  {
   "cell_type": "markdown",
   "metadata": {},
   "source": [
    "<b>2.</b> Calculando fatorial de 30 em Python"
   ]
  },
  {
   "cell_type": "code",
   "execution_count": null,
   "metadata": {},
   "outputs": [
    {
     "name": "stdout",
     "output_type": "stream",
     "text": [
      "Fatorial de 30: 265252859812191058636308480000000\n"
     ]
    }
   ],
   "source": [
    "def fatorial(n):\n",
    "    if n == 0 or n == 1:\n",
    "        return 1\n",
    "    else:\n",
    "        return n * fatorial(n - 1)\n",
    "\n",
    "fatorial_30 = fatorial(30)\n",
    "print(\"Fatorial de 30:\", fatorial_30)\n"
   ]
  },
  {
   "cell_type": "markdown",
   "metadata": {},
   "source": [
    "Em C/C++, para saber o maior valor inteiro representável, podemos usar a biblioteca limits.h ou cstdint para verificar o limite superior do tipo de dados inteiro.\n",
    "\n",
    "~~~cpp\n",
    "#include <stdio.h>\n",
    "#include <limits.h>\n",
    "\n",
    "int main() {\n",
    "    printf(\"Maior valor inteiro representavel em 'int' (C/C++): %d\\n\", INT_MAX);\n",
    "    printf(\"Maior valor inteiro representavel em 'long long int' (C/C++): %lld\\n\", LLONG_MAX);\n",
    "\n",
    "    return 0;\n",
    "}\n",
    "~~~\n",
    "retornará:\n",
    "~~~console\n",
    "Maior valor inteiro representavel em 'int' (C/C++): 2147483647\n",
    "Maior valor inteiro representavel em 'long long int' (C/C++): 9223372036854775807\n",
    "~~~\n",
    "\n",
    "Ou seja, O fatorial de 30 em Python é um número grande, muito além do que o maior valor inteiro representável em C/C++."
   ]
  },
  {
   "cell_type": "markdown",
   "metadata": {},
   "source": [
    "<b>3.</b> Em Python, os tipos numéricos são imutáveis, o que significa que, ao realizar operações matemáticas com eles, você não modifica o valor da variável original.\n",
    "\n",
    "Exemplo:"
   ]
  },
  {
   "cell_type": "code",
   "execution_count": null,
   "metadata": {},
   "outputs": [
    {
     "name": "stdout",
     "output_type": "stream",
     "text": [
      "Variável original: 10\n",
      "Resultado da operação: 15\n"
     ]
    }
   ],
   "source": [
    "num = 10\n",
    "\n",
    "resultado = num + 5\n",
    "\n",
    "print(\"Variável original:\", num)\n",
    "print(\"Resultado da operação:\", resultado)"
   ]
  },
  {
   "cell_type": "markdown",
   "metadata": {},
   "source": [
    "Neste exemplo, a variável num permanece inalterada após a operação de adição."
   ]
  },
  {
   "cell_type": "code",
   "execution_count": null,
   "metadata": {},
   "outputs": [
    {
     "name": "stdout",
     "output_type": "stream",
     "text": [
      "Valor após a operação: 20\n"
     ]
    }
   ],
   "source": [
    "num = 10\n",
    "\n",
    "num = num * 2\n",
    "\n",
    "print(\"Valor após a operação:\", num)"
   ]
  },
  {
   "cell_type": "markdown",
   "metadata": {},
   "source": [
    "Embora pareça que a variável num foi modificada, na verdade, uma nova variável é criada com o resultado da multiplicação e a variável num é reatribuída com esse novo valor.\n",
    "\n",
    "Esses exemplos demonstram que, em Python, as variáveis numéricas são imutáveis. Toda vez que uma operação é aplicada a elas, um novo valor é criado e atribuído a uma nova variável ou à variável original reatribuída, deixando a variável original inalterada."
   ]
  },
  {
   "cell_type": "markdown",
   "metadata": {},
   "source": [
    "<b>4.</b>Em Python, os números inteiros são objetos e tem métodos associados a eles. Você pode usar a função dir() para listar todos os métodos disponíveis para um objeto em Python."
   ]
  },
  {
   "cell_type": "code",
   "execution_count": null,
   "metadata": {},
   "outputs": [
    {
     "name": "stdout",
     "output_type": "stream",
     "text": [
      "['__abs__', '__add__', '__and__', '__bool__', '__ceil__', '__class__', '__delattr__', '__dir__', '__divmod__', '__doc__', '__eq__', '__float__', '__floor__', '__floordiv__', '__format__', '__ge__', '__getattribute__', '__getnewargs__', '__gt__', '__hash__', '__index__', '__init__', '__init_subclass__', '__int__', '__invert__', '__le__', '__lshift__', '__lt__', '__mod__', '__mul__', '__ne__', '__neg__', '__new__', '__or__', '__pos__', '__pow__', '__radd__', '__rand__', '__rdivmod__', '__reduce__', '__reduce_ex__', '__repr__', '__rfloordiv__', '__rlshift__', '__rmod__', '__rmul__', '__ror__', '__round__', '__rpow__', '__rrshift__', '__rshift__', '__rsub__', '__rtruediv__', '__rxor__', '__setattr__', '__sizeof__', '__str__', '__sub__', '__subclasshook__', '__truediv__', '__trunc__', '__xor__', 'as_integer_ratio', 'bit_length', 'conjugate', 'denominator', 'from_bytes', 'imag', 'numerator', 'real', 'to_bytes']\n"
     ]
    }
   ],
   "source": [
    "num = 10\n",
    "print(dir(num))"
   ]
  },
  {
   "cell_type": "markdown",
   "metadata": {},
   "source": [
    "<h4>Exercício 3</h4>"
   ]
  },
  {
   "cell_type": "markdown",
   "metadata": {},
   "source": [
    "<b>1.</b>Imprimindo cada caractere numérico e seu código numérico"
   ]
  },
  {
   "cell_type": "code",
   "execution_count": null,
   "metadata": {},
   "outputs": [
    {
     "name": "stdout",
     "output_type": "stream",
     "text": [
      "'0' - 48\n",
      "'1' - 49\n",
      "'2' - 50\n",
      "'3' - 51\n",
      "'4' - 52\n",
      "'5' - 53\n",
      "'6' - 54\n",
      "'7' - 55\n",
      "'8' - 56\n",
      "'9' - 57\n"
     ]
    }
   ],
   "source": [
    "for i in range(10):\n",
    "    print(f\"'{chr(48 + i)}' - {48 + i}\")"
   ]
  },
  {
   "cell_type": "markdown",
   "metadata": {},
   "source": [
    "<b>2.</b>Imprimindo o código numérico em octal e hexadecimal"
   ]
  },
  {
   "cell_type": "code",
   "execution_count": null,
   "metadata": {},
   "outputs": [
    {
     "name": "stdout",
     "output_type": "stream",
     "text": [
      "'0' - 48 - 0o60 - 0x30\n",
      "'1' - 49 - 0o61 - 0x31\n",
      "'2' - 50 - 0o62 - 0x32\n",
      "'3' - 51 - 0o63 - 0x33\n",
      "'4' - 52 - 0o64 - 0x34\n",
      "'5' - 53 - 0o65 - 0x35\n",
      "'6' - 54 - 0o66 - 0x36\n",
      "'7' - 55 - 0o67 - 0x37\n",
      "'8' - 56 - 0o70 - 0x38\n",
      "'9' - 57 - 0o71 - 0x39\n"
     ]
    }
   ],
   "source": [
    "for i in range(10):\n",
    "    print(f\"'{chr(48 + i)}' - {48 + i} - {oct(48 + i)} - {hex(48 + i)}\")"
   ]
  },
  {
   "cell_type": "markdown",
   "metadata": {},
   "source": [
    "<b>3.</b>Lendo um caractere da entrada padrão e imprimir seu código numérico:"
   ]
  },
  {
   "cell_type": "code",
   "execution_count": null,
   "metadata": {},
   "outputs": [
    {
     "name": "stdout",
     "output_type": "stream",
     "text": [
      "'b' - 98 - 0o142 - 0x62\n"
     ]
    }
   ],
   "source": [
    "char = input(\"Digite um caractere: \")\n",
    "print(f\"'{char}' - {ord(char)} - {oct(ord(char))} - {hex(ord(char))}\")"
   ]
  },
  {
   "cell_type": "markdown",
   "metadata": {},
   "source": [
    "<b>4.</b>Utilizando caracteres especiais 'ç' e 'ã':"
   ]
  },
  {
   "cell_type": "code",
   "execution_count": null,
   "metadata": {},
   "outputs": [
    {
     "name": "stdout",
     "output_type": "stream",
     "text": [
      "'ç' - 231 - 0o347 - 0xe7\n",
      "'ã' - 227 - 0o343 - 0xe3\n"
     ]
    }
   ],
   "source": [
    "print(f\"'ç' - {ord('ç')} - {oct(ord('ç'))} - {hex(ord('ç'))}\")\n",
    "print(f\"'ã' - {ord('ã')} - {oct(ord('ã'))} - {hex(ord('ã'))}\")"
   ]
  },
  {
   "cell_type": "markdown",
   "metadata": {},
   "source": [
    "<h4>Exercício 4</h4>"
   ]
  },
  {
   "cell_type": "code",
   "execution_count": null,
   "metadata": {},
   "outputs": [
    {
     "name": "stdout",
     "output_type": "stream",
     "text": [
      "O sobrenome está antes do nome na ordem alfabética.\n",
      "O nome possui 5 caracteres.\n",
      "O sobrenome possui 5 caracteres.\n",
      "O nome é um palíndromo? False\n"
     ]
    }
   ],
   "source": [
    "nome_completo = \"Luann Firme\"\n",
    "\n",
    "# Separando o nome do sobrenome\n",
    "partes_nome = nome_completo.split()\n",
    "nome = partes_nome[0]\n",
    "sobrenome = partes_nome[-1]\n",
    "\n",
    "# Verificando a ordem alfabética entre o nome e o sobrenome\n",
    "nomes_ordenados = sorted([nome, sobrenome])\n",
    "ordem_alfabetica = nomes_ordenados.index(nome) - nomes_ordenados.index(sobrenome)\n",
    "\n",
    "if ordem_alfabetica < 0:\n",
    "    print(f\"O nome está antes do sobrenome na ordem alfabética.\")\n",
    "elif ordem_alfabetica > 0:\n",
    "    print(f\"O sobrenome está antes do nome na ordem alfabética.\")\n",
    "else:\n",
    "    print(f\"O nome e o sobrenome são iguais ou estão na mesma posição na ordem alfabética.\")\n",
    "\n",
    "# Verificando a quantidade de caracteres de cada parte\n",
    "print(f\"O nome possui {len(nome)} caracteres.\")\n",
    "print(f\"O sobrenome possui {len(sobrenome)} caracteres.\")\n",
    "\n",
    "# Verificando se o nome é um palíndromo\n",
    "e_palindromo = nome == nome[::-1]\n",
    "print(f\"O nome é um palíndromo? {e_palindromo}\")\n"
   ]
  },
  {
   "cell_type": "markdown",
   "metadata": {},
   "source": [
    "<h4>Exercício 5</h4>"
   ]
  },
  {
   "cell_type": "markdown",
   "metadata": {},
   "source": [
    "Exemplos de Operadores aritméticos e aritméticos compostos:"
   ]
  },
  {
   "cell_type": "code",
   "execution_count": null,
   "metadata": {},
   "outputs": [
    {
     "name": "stdout",
     "output_type": "stream",
     "text": [
      "8.0\n",
      "2.4000000000000004\n",
      "14.559999999999999\n",
      "1.8571428571428574\n",
      "14.0\n",
      "3.8\n",
      "24.15\n",
      "1.927767354596623\n"
     ]
    }
   ],
   "source": [
    "a = 5.2\n",
    "b = 2.8\n",
    "\n",
    "print(a + b)\n",
    "\n",
    "print(a - b)\n",
    "\n",
    "print(a * b)\n",
    "\n",
    "print(a / b)\n",
    "\n",
    "c = 10.1\n",
    "c += 3.9\n",
    "print(c)\n",
    "\n",
    "d = 8.6\n",
    "d -= 4.8\n",
    "print(d)\n",
    "\n",
    "e = 10.5\n",
    "e *= 2.3\n",
    "print(e)\n",
    "\n",
    "f = 20.55\n",
    "f /= 10.66\n",
    "print(f)"
   ]
  },
  {
   "cell_type": "markdown",
   "metadata": {},
   "source": [
    " Obtendo a maior e a menor potência de 2 usando float:"
   ]
  },
  {
   "cell_type": "code",
   "execution_count": 24,
   "metadata": {},
   "outputs": [
    {
     "ename": "KeyboardInterrupt",
     "evalue": "",
     "output_type": "error",
     "traceback": [
      "\u001b[1;31m---------------------------------------------------------------------------\u001b[0m",
      "\u001b[1;31mKeyboardInterrupt\u001b[0m                         Traceback (most recent call last)",
      "\u001b[1;32md:\\Sistemas\\ResidenciaTIC18-Python\\Semana 1\\PP-P001\\Atividade.ipynb Célula 34\u001b[0m line \u001b[0;36m4\n\u001b[0;32m      <a href='vscode-notebook-cell:/d%3A/Sistemas/ResidenciaTIC18-Python/Semana%201/PP-P001/Atividade.ipynb#X62sZmlsZQ%3D%3D?line=0'>1</a>\u001b[0m \u001b[39m# Obtendo a maior e a menor potência de 2 usando float\u001b[39;00m\n\u001b[0;32m      <a href='vscode-notebook-cell:/d%3A/Sistemas/ResidenciaTIC18-Python/Semana%201/PP-P001/Atividade.ipynb#X62sZmlsZQ%3D%3D?line=1'>2</a>\u001b[0m \u001b[39m# Maior potência de 2\u001b[39;00m\n\u001b[0;32m      <a href='vscode-notebook-cell:/d%3A/Sistemas/ResidenciaTIC18-Python/Semana%201/PP-P001/Atividade.ipynb#X62sZmlsZQ%3D%3D?line=2'>3</a>\u001b[0m maior_potencia_de_2 \u001b[39m=\u001b[39m \u001b[39m0\u001b[39m\n\u001b[1;32m----> <a href='vscode-notebook-cell:/d%3A/Sistemas/ResidenciaTIC18-Python/Semana%201/PP-P001/Atividade.ipynb#X62sZmlsZQ%3D%3D?line=3'>4</a>\u001b[0m \u001b[39mwhile\u001b[39;00m \u001b[39m2\u001b[39m \u001b[39m*\u001b[39m\u001b[39m*\u001b[39m maior_potencia_de_2 \u001b[39m<\u001b[39m \u001b[39mfloat\u001b[39;49m(\u001b[39m'\u001b[39m\u001b[39minf\u001b[39m\u001b[39m'\u001b[39m):\n\u001b[0;32m      <a href='vscode-notebook-cell:/d%3A/Sistemas/ResidenciaTIC18-Python/Semana%201/PP-P001/Atividade.ipynb#X62sZmlsZQ%3D%3D?line=4'>5</a>\u001b[0m     maior_potencia_de_2 \u001b[39m+\u001b[39m\u001b[39m=\u001b[39m \u001b[39m1\u001b[39m\n\u001b[0;32m      <a href='vscode-notebook-cell:/d%3A/Sistemas/ResidenciaTIC18-Python/Semana%201/PP-P001/Atividade.ipynb#X62sZmlsZQ%3D%3D?line=6'>7</a>\u001b[0m \u001b[39m# Menor potência de 2\u001b[39;00m\n",
      "\u001b[1;31mKeyboardInterrupt\u001b[0m: "
     ]
    }
   ],
   "source": [
    "# Obtendo a maior e a menor potência de 2 usando float\n",
    "# Maior potência de 2\n",
    "maior_potencia_de_2 = 0\n",
    "while 2 ** maior_potencia_de_2 < float('inf'):\n",
    "    maior_potencia_de_2 += 1\n",
    "\n",
    "# Menor potência de 2\n",
    "menor_potencia_de_2 = 0\n",
    "while 2 ** -menor_potencia_de_2 > 0:\n",
    "    menor_potencia_de_2 += 1\n",
    "\n",
    "print(f\"Maior potência de 2: 2^{maior_potencia_de_2 - 1}\")\n",
    "print(f\"Menor potência de 2: 2^{-menor_potencia_de_2}\")\n"
   ]
  },
  {
   "cell_type": "markdown",
   "metadata": {},
   "source": [
    "Variáveis numéricas imutáveis:"
   ]
  },
  {
   "cell_type": "code",
   "execution_count": null,
   "metadata": {},
   "outputs": [
    {
     "name": "stdout",
     "output_type": "stream",
     "text": [
      "10.5\n",
      "12.5\n"
     ]
    }
   ],
   "source": [
    "x = 10.5\n",
    "y = x\n",
    "y += 2\n",
    "\n",
    "print(x)\n",
    "print(y)"
   ]
  },
  {
   "cell_type": "markdown",
   "metadata": {},
   "source": [
    "verificando métodos disponíveis para variáveis de ponto flutuante:"
   ]
  },
  {
   "cell_type": "code",
   "execution_count": null,
   "metadata": {},
   "outputs": [
    {
     "name": "stdout",
     "output_type": "stream",
     "text": [
      "['__abs__', '__add__', '__bool__', '__ceil__', '__class__', '__delattr__', '__dir__', '__divmod__', '__doc__', '__eq__', '__float__', '__floor__', '__floordiv__', '__format__', '__ge__', '__getattribute__', '__getformat__', '__getnewargs__', '__gt__', '__hash__', '__init__', '__init_subclass__', '__int__', '__le__', '__lt__', '__mod__', '__mul__', '__ne__', '__neg__', '__new__', '__pos__', '__pow__', '__radd__', '__rdivmod__', '__reduce__', '__reduce_ex__', '__repr__', '__rfloordiv__', '__rmod__', '__rmul__', '__round__', '__rpow__', '__rsub__', '__rtruediv__', '__setattr__', '__setformat__', '__sizeof__', '__str__', '__sub__', '__subclasshook__', '__truediv__', '__trunc__', 'as_integer_ratio', 'conjugate', 'fromhex', 'hex', 'imag', 'is_integer', 'real']\n"
     ]
    }
   ],
   "source": [
    "flutante = 3.14159\n",
    "print(dir(flutante))"
   ]
  },
  {
   "cell_type": "markdown",
   "metadata": {},
   "source": [
    "<h4>Exercício 6</h4>"
   ]
  },
  {
   "cell_type": "markdown",
   "metadata": {},
   "source": [
    "<b>1.</b>Dado o código foi possível observar que:\n",
    "<ul>\n",
    "<li>A primeira linha retorna o array invertido, ou seja, do fim para o início</li>\n",
    "<li>A segunda linha retorna apenas um item do array a partir do fim</li>\n",
    "<li>A terceira linha retorna todos os itens exceto o último item do array</li>\n",
    "<li>A quarta linha retorna o array invertido a cada dois itens</li>\n",
    "<li>A quinta linha retorna doi itens do array a partir do fim</li>\n",
    "<li>A sexta linha retorna todos os itens exceto os dois últimos itens do array</li>\n",
    "</ul>"
   ]
  },
  {
   "cell_type": "code",
   "execution_count": 25,
   "metadata": {},
   "outputs": [
    {
     "name": "stdout",
     "output_type": "stream",
     "text": [
      "[9, 8, 7, 6, 5, 4, 3, 2, 1]\n",
      "[9]\n",
      "[1, 2, 3, 4, 5, 6, 7, 8]\n",
      "[9, 7, 5, 3, 1]\n",
      "[8, 9]\n",
      "[1, 2, 3, 4, 5, 6, 7]\n"
     ]
    }
   ],
   "source": [
    "L = [1,2,3,4,5,6,7,8,9]\n",
    "print(L[:: -1])\n",
    "print(L[-1::])\n",
    "print(L[:-1:])\n",
    "print(L[:: -2])\n",
    "print(L[-2::])\n",
    "print(L[:-2:])"
   ]
  }
 ],
 "metadata": {
  "kernelspec": {
   "display_name": "DevPython",
   "language": "python",
   "name": "python3"
  },
  "language_info": {
   "codemirror_mode": {
    "name": "ipython",
    "version": 3
   },
   "file_extension": ".py",
   "mimetype": "text/x-python",
   "name": "python",
   "nbconvert_exporter": "python",
   "pygments_lexer": "ipython3",
   "version": "3.9.18"
  }
 },
 "nbformat": 4,
 "nbformat_minor": 2
}
